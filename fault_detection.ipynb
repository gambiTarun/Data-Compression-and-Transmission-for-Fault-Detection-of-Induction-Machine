{
 "cells": [
  {
   "cell_type": "code",
   "execution_count": 1,
   "metadata": {},
   "outputs": [],
   "source": [
    "import numpy as np\n",
    "import pandas as pd\n",
    "from scipy.stats import skew, kurtosis\n",
    "import glob,os\n",
    "import pandas as pd\n",
    "import matplotlib.pyplot as plt\n",
    "import sklearn.feature_selection\n",
    "from sklearn.preprocessing import LabelEncoder"
   ]
  },
  {
   "cell_type": "code",
   "execution_count": 2,
   "metadata": {},
   "outputs": [],
   "source": [
    "fault_loc = (os.getcwd()+'/Fault monitoring project/New-Machine_Experimental Data/MachineNewData/Faulty').replace('\\\\','/')\n",
    "healthy_loc = (os.getcwd()+'/Fault monitoring project/New-Machine_Experimental Data/MachineNewData/Healthy').replace('\\\\','/')"
   ]
  },
  {
   "cell_type": "code",
   "execution_count": 3,
   "metadata": {},
   "outputs": [],
   "source": [
    "feats = ['mean','std','skewness','kurtosis','max','min', 'crestF', 'RMS', 'pk-pk', 'shapeFactor','impulseFactor','MarginFactor']\n",
    "\n",
    "def features(i):\n",
    "    return [np.mean(i),np.std(i),skew(i),kurtosis(i),np.max(i),np.min(i), max(i)/np.sqrt(np.mean(i**2)),np.sqrt(np.mean(i**2)),max(i)-min(i),\n",
    "               np.sqrt(np.mean(i**2))/np.mean(abs(i)), max(i)/np.mean(abs(i)), max(i)/np.mean(abs(i))**2]"
   ]
  },
  {
   "cell_type": "code",
   "execution_count": 4,
   "metadata": {},
   "outputs": [
    {
     "name": "stdout",
     "output_type": "stream",
     "text": [
      "Wall time: 14.8 s\n"
     ]
    }
   ],
   "source": [
    "%%time\n",
    "i1=[]   \n",
    "i2=[]\n",
    "i3=[]\n",
    "\n",
    "for i,file in enumerate(glob.glob(fault_loc+\"/*/*/*/*.lvm\")):\n",
    "    data = open(file).read()\n",
    "    i = []\n",
    "    for instance in data.split(\"Comment\\n\")[1].split('\\n')[:-2]:\n",
    "        i.append(instance.split('\\t')[3])\n",
    "        \n",
    "    i = np.array(i,dtype=np.float32)\n",
    "    \n",
    "    for split in np.split(i,10):\n",
    "        if('I1' in file):\n",
    "            i1.append(features(split))\n",
    "        elif('I2' in file):\n",
    "            i2.append(features(split))\n",
    "        elif('I3' in file):\n",
    "            i3.append(features(split))\n",
    "        \n",
    "i1 = pd.DataFrame(i1, columns=feats)\n",
    "i2 = pd.DataFrame(i2, columns=feats)\n",
    "i3 = pd.DataFrame(i3, columns=feats)\n",
    "\n",
    "i1['current'] = 'i1'\n",
    "i2['current'] = 'i2'\n",
    "i3['current'] = 'i3'\n",
    "\n",
    "data_fault = pd.concat([i1,i2,i3]).reset_index(drop=True)\n",
    "data_fault['type'] = 'faulty'"
   ]
  },
  {
   "cell_type": "code",
   "execution_count": 5,
   "metadata": {},
   "outputs": [
    {
     "name": "stdout",
     "output_type": "stream",
     "text": [
      "Wall time: 7.11 s\n"
     ]
    }
   ],
   "source": [
    "%%time\n",
    "i1=[]   \n",
    "i2=[]\n",
    "i3=[]\n",
    "\n",
    "for i,file in enumerate(glob.glob(healthy_loc+\"/*/*/*.lvm\")):\n",
    "    data = open(file).read()\n",
    "    i = []\n",
    "    for instance in data.split(\"Comment\\n\")[1].split('\\n')[:-2]:\n",
    "        i.append(instance.split('\\t')[3])\n",
    "        \n",
    "    i = np.array(i,dtype=np.float32)\n",
    "    \n",
    "    for split in np.split(i,10):\n",
    "        if('I1' in file):\n",
    "            i1.append(features(split))\n",
    "        elif('I2' in file):\n",
    "            i2.append(features(split))\n",
    "        elif('I3' in file):\n",
    "            i3.append(features(split))\n",
    "\n",
    "\n",
    "i1 = pd.DataFrame(i1, columns=feats)\n",
    "i2 = pd.DataFrame(i2, columns=feats)\n",
    "i3 = pd.DataFrame(i3, columns=feats)\n",
    "\n",
    "i1['current'] = 'i1'\n",
    "i2['current'] = 'i2'\n",
    "i3['current'] = 'i3'\n",
    "\n",
    "data_health = pd.concat([i1,i2,i3]).reset_index(drop=True)\n",
    "data_health['type'] = 'healthy'"
   ]
  },
  {
   "cell_type": "code",
   "execution_count": 6,
   "metadata": {},
   "outputs": [],
   "source": [
    "data = (pd.concat([data_fault,data_health]).sample(frac=1,random_state=42)).reset_index(drop=True)\n",
    "\n",
    "otp_ = data.apply(LabelEncoder().fit_transform).iloc[:,-1]\n",
    "inp_ = pd.concat([data.iloc[:,:-2],pd.get_dummies(data['current'])],axis=1)"
   ]
  },
  {
   "cell_type": "markdown",
   "metadata": {},
   "source": [
    "### Feature Selection"
   ]
  },
  {
   "cell_type": "code",
   "execution_count": 7,
   "metadata": {},
   "outputs": [],
   "source": [
    "from sklearn.feature_selection import SelectKBest\n",
    "from sklearn.feature_selection import chi2,f_classif,mutual_info_classif\n",
    "best_feats = 3\n",
    "\n",
    "selector = SelectKBest(f_classif, k=best_feats)\n",
    "selector.fit(inp_, otp_)\n",
    "# Get columns to keep\n",
    "cols = selector.get_support(indices=True)\n",
    "# Create new dataframe with only desired columns, or overwrite existing\n",
    "inp = inp_.iloc[:,cols]"
   ]
  },
  {
   "cell_type": "code",
   "execution_count": 8,
   "metadata": {
    "scrolled": false
   },
   "outputs": [
    {
     "data": {
      "text/html": [
       "<div>\n",
       "<style scoped>\n",
       "    .dataframe tbody tr th:only-of-type {\n",
       "        vertical-align: middle;\n",
       "    }\n",
       "\n",
       "    .dataframe tbody tr th {\n",
       "        vertical-align: top;\n",
       "    }\n",
       "\n",
       "    .dataframe thead th {\n",
       "        text-align: right;\n",
       "    }\n",
       "</style>\n",
       "<table border=\"1\" class=\"dataframe\">\n",
       "  <thead>\n",
       "    <tr style=\"text-align: right;\">\n",
       "      <th></th>\n",
       "      <th>std</th>\n",
       "      <th>skewness</th>\n",
       "      <th>RMS</th>\n",
       "    </tr>\n",
       "  </thead>\n",
       "  <tbody>\n",
       "    <tr>\n",
       "      <th>0</th>\n",
       "      <td>0.129561</td>\n",
       "      <td>-0.043959</td>\n",
       "      <td>0.132929</td>\n",
       "    </tr>\n",
       "    <tr>\n",
       "      <th>1</th>\n",
       "      <td>0.107852</td>\n",
       "      <td>0.041797</td>\n",
       "      <td>0.110802</td>\n",
       "    </tr>\n",
       "    <tr>\n",
       "      <th>2</th>\n",
       "      <td>0.296502</td>\n",
       "      <td>0.006164</td>\n",
       "      <td>0.297696</td>\n",
       "    </tr>\n",
       "    <tr>\n",
       "      <th>3</th>\n",
       "      <td>0.422635</td>\n",
       "      <td>0.003546</td>\n",
       "      <td>0.422958</td>\n",
       "    </tr>\n",
       "    <tr>\n",
       "      <th>4</th>\n",
       "      <td>0.129919</td>\n",
       "      <td>-0.019842</td>\n",
       "      <td>0.130944</td>\n",
       "    </tr>\n",
       "  </tbody>\n",
       "</table>\n",
       "</div>"
      ],
      "text/plain": [
       "        std  skewness       RMS\n",
       "0  0.129561 -0.043959  0.132929\n",
       "1  0.107852  0.041797  0.110802\n",
       "2  0.296502  0.006164  0.297696\n",
       "3  0.422635  0.003546  0.422958\n",
       "4  0.129919 -0.019842  0.130944"
      ]
     },
     "execution_count": 8,
     "metadata": {},
     "output_type": "execute_result"
    }
   ],
   "source": [
    "inp.head()"
   ]
  },
  {
   "cell_type": "code",
   "execution_count": 9,
   "metadata": {},
   "outputs": [
    {
     "data": {
      "text/html": [
       "<div>\n",
       "<style scoped>\n",
       "    .dataframe tbody tr th:only-of-type {\n",
       "        vertical-align: middle;\n",
       "    }\n",
       "\n",
       "    .dataframe tbody tr th {\n",
       "        vertical-align: top;\n",
       "    }\n",
       "\n",
       "    .dataframe thead th {\n",
       "        text-align: right;\n",
       "    }\n",
       "</style>\n",
       "<table border=\"1\" class=\"dataframe\">\n",
       "  <thead>\n",
       "    <tr style=\"text-align: right;\">\n",
       "      <th></th>\n",
       "      <th>mean</th>\n",
       "      <th>std</th>\n",
       "      <th>skewness</th>\n",
       "      <th>kurtosis</th>\n",
       "      <th>max</th>\n",
       "      <th>min</th>\n",
       "      <th>crestF</th>\n",
       "      <th>RMS</th>\n",
       "      <th>pk-pk</th>\n",
       "      <th>shapeFactor</th>\n",
       "      <th>impulseFactor</th>\n",
       "      <th>MarginFactor</th>\n",
       "      <th>i1</th>\n",
       "      <th>i2</th>\n",
       "      <th>i3</th>\n",
       "    </tr>\n",
       "  </thead>\n",
       "  <tbody>\n",
       "    <tr>\n",
       "      <th>0</th>\n",
       "      <td>0.029733</td>\n",
       "      <td>0.129561</td>\n",
       "      <td>-0.043959</td>\n",
       "      <td>-1.195863</td>\n",
       "      <td>0.286866</td>\n",
       "      <td>-0.265517</td>\n",
       "      <td>2.158043</td>\n",
       "      <td>0.132929</td>\n",
       "      <td>0.552383</td>\n",
       "      <td>1.152769</td>\n",
       "      <td>2.487725</td>\n",
       "      <td>21.573744</td>\n",
       "      <td>0</td>\n",
       "      <td>1</td>\n",
       "      <td>0</td>\n",
       "    </tr>\n",
       "    <tr>\n",
       "      <th>1</th>\n",
       "      <td>0.025396</td>\n",
       "      <td>0.107852</td>\n",
       "      <td>0.041797</td>\n",
       "      <td>-1.526541</td>\n",
       "      <td>0.186538</td>\n",
       "      <td>-0.125538</td>\n",
       "      <td>1.683525</td>\n",
       "      <td>0.110802</td>\n",
       "      <td>0.312076</td>\n",
       "      <td>1.122846</td>\n",
       "      <td>1.890340</td>\n",
       "      <td>19.156342</td>\n",
       "      <td>1</td>\n",
       "      <td>0</td>\n",
       "      <td>0</td>\n",
       "    </tr>\n",
       "    <tr>\n",
       "      <th>2</th>\n",
       "      <td>0.026637</td>\n",
       "      <td>0.296502</td>\n",
       "      <td>0.006164</td>\n",
       "      <td>-1.392611</td>\n",
       "      <td>0.475467</td>\n",
       "      <td>-0.425150</td>\n",
       "      <td>1.597157</td>\n",
       "      <td>0.297696</td>\n",
       "      <td>0.900617</td>\n",
       "      <td>1.132870</td>\n",
       "      <td>1.809372</td>\n",
       "      <td>6.885501</td>\n",
       "      <td>1</td>\n",
       "      <td>0</td>\n",
       "      <td>0</td>\n",
       "    </tr>\n",
       "    <tr>\n",
       "      <th>3</th>\n",
       "      <td>0.016536</td>\n",
       "      <td>0.422635</td>\n",
       "      <td>0.003546</td>\n",
       "      <td>-1.456531</td>\n",
       "      <td>0.633526</td>\n",
       "      <td>-0.611766</td>\n",
       "      <td>1.497845</td>\n",
       "      <td>0.422958</td>\n",
       "      <td>1.245292</td>\n",
       "      <td>1.119522</td>\n",
       "      <td>1.676871</td>\n",
       "      <td>4.438485</td>\n",
       "      <td>0</td>\n",
       "      <td>0</td>\n",
       "      <td>1</td>\n",
       "    </tr>\n",
       "    <tr>\n",
       "      <th>4</th>\n",
       "      <td>0.016356</td>\n",
       "      <td>0.129919</td>\n",
       "      <td>-0.019842</td>\n",
       "      <td>-1.508510</td>\n",
       "      <td>0.209343</td>\n",
       "      <td>-0.174777</td>\n",
       "      <td>1.598719</td>\n",
       "      <td>0.130944</td>\n",
       "      <td>0.384120</td>\n",
       "      <td>1.112924</td>\n",
       "      <td>1.779253</td>\n",
       "      <td>15.122273</td>\n",
       "      <td>0</td>\n",
       "      <td>0</td>\n",
       "      <td>1</td>\n",
       "    </tr>\n",
       "  </tbody>\n",
       "</table>\n",
       "</div>"
      ],
      "text/plain": [
       "       mean       std  skewness  kurtosis       max       min    crestF  \\\n",
       "0  0.029733  0.129561 -0.043959 -1.195863  0.286866 -0.265517  2.158043   \n",
       "1  0.025396  0.107852  0.041797 -1.526541  0.186538 -0.125538  1.683525   \n",
       "2  0.026637  0.296502  0.006164 -1.392611  0.475467 -0.425150  1.597157   \n",
       "3  0.016536  0.422635  0.003546 -1.456531  0.633526 -0.611766  1.497845   \n",
       "4  0.016356  0.129919 -0.019842 -1.508510  0.209343 -0.174777  1.598719   \n",
       "\n",
       "        RMS     pk-pk  shapeFactor  impulseFactor  MarginFactor  i1  i2  i3  \n",
       "0  0.132929  0.552383     1.152769       2.487725     21.573744   0   1   0  \n",
       "1  0.110802  0.312076     1.122846       1.890340     19.156342   1   0   0  \n",
       "2  0.297696  0.900617     1.132870       1.809372      6.885501   1   0   0  \n",
       "3  0.422958  1.245292     1.119522       1.676871      4.438485   0   0   1  \n",
       "4  0.130944  0.384120     1.112924       1.779253     15.122273   0   0   1  "
      ]
     },
     "execution_count": 9,
     "metadata": {},
     "output_type": "execute_result"
    }
   ],
   "source": [
    "inp_.head()"
   ]
  },
  {
   "cell_type": "code",
   "execution_count": 10,
   "metadata": {
    "scrolled": false
   },
   "outputs": [
    {
     "name": "stderr",
     "output_type": "stream",
     "text": [
      "C:\\Users\\Tarunbir Singh\\Anaconda3\\lib\\site-packages\\ipykernel_launcher.py:3: FutureWarning: pandas.scatter_matrix is deprecated, use pandas.plotting.scatter_matrix instead\n",
      "  This is separate from the ipykernel package so we can avoid doing imports until\n"
     ]
    },
    {
     "data": {
      "image/png": "[encoded data removed]",
      "text/plain": [
       "<Figure size 720x720 with 9 Axes>"
      ]
     },
     "metadata": {
      "needs_background": "light"
     },
     "output_type": "display_data"
    }
   ],
   "source": [
    "%matplotlib inline\n",
    "#grr = pd.scatter_matrix(data[data['current']=='i1'].iloc[:,:-1], c = otp[data[data['current']=='i1'].index], figsize=(10,10))\n",
    "grr = pd.scatter_matrix(inp, c = otp_, figsize=(10,10))\n",
    " "
   ]
  },
  {
   "cell_type": "code",
   "execution_count": 11,
   "metadata": {},
   "outputs": [],
   "source": [
    "inp_train = inp.iloc[:int(0.8*inp.shape[0]),:]\n",
    "otp_train = otp_[:int(0.8*inp.shape[0])]\n",
    "inp_test = inp.iloc[int(0.8*inp.shape[0]):,:]\n",
    "otp_test = otp_[int(0.8*inp.shape[0]):]"
   ]
  },
  {
   "cell_type": "markdown",
   "metadata": {},
   "source": [
    "### Artificial Neural Network"
   ]
  },
  {
   "cell_type": "code",
   "execution_count": 13,
   "metadata": {},
   "outputs": [
    {
     "name": "stdout",
     "output_type": "stream",
     "text": [
      "Train on 7200 samples, validate on 1800 samples\n",
      "WARNING:tensorflow:From C:\\Users\\Tarunbir Singh\\Anaconda3\\lib\\site-packages\\tensorflow\\python\\ops\\math_ops.py:3066: to_int32 (from tensorflow.python.ops.math_ops) is deprecated and will be removed in a future version.\n",
      "Instructions for updating:\n",
      "Use tf.cast instead.\n",
      "Epoch 1/3\n",
      "7200/7200 [==============================] - 2s 299us/sample - loss: 0.3022 - acc: 0.8737 - val_loss: 0.1939 - val_acc: 0.9350\n",
      "Epoch 2/3\n",
      "7200/7200 [==============================] - 2s 220us/sample - loss: 0.1928 - acc: 0.9379 - val_loss: 0.1876 - val_acc: 0.9300\n",
      "Epoch 3/3\n",
      "7200/7200 [==============================] - 2s 213us/sample - loss: 0.1789 - acc: 0.9383 - val_loss: 0.1723 - val_acc: 0.9378\n"
     ]
    },
    {
     "data": {
      "text/plain": [
       "Text(0.5, 1.0, 'Accuracy')"
      ]
     },
     "execution_count": 13,
     "metadata": {},
     "output_type": "execute_result"
    },
    {
     "data": {
      "image/png": "[encoded data removed]",
      "text/plain": [
       "<Figure size 432x288 with 1 Axes>"
      ]
     },
     "metadata": {
      "needs_background": "light"
     },
     "output_type": "display_data"
    },
    {
     "data": {
      "image/png": "[encoded data removed]",
      "text/plain": [
       "<Figure size 432x288 with 1 Axes>"
      ]
     },
     "metadata": {
      "needs_background": "light"
     },
     "output_type": "display_data"
    }
   ],
   "source": [
    "import tensorflow.keras as k\n",
    "from sklearn.preprocessing import LabelEncoder\n",
    "from sklearn.metrics import confusion_matrix,classification_report\n",
    "\n",
    "model = k.Sequential()\n",
    "model.add(k.layers.Dense(100, input_dim=best_feats, kernel_initializer='normal', activation='relu'))\n",
    "model.add(k.layers.Dense(2000, kernel_initializer='normal', activation='relu'))\n",
    "model.add(k.layers.Dense(1, kernel_initializer='normal', activation='sigmoid'))\n",
    "\n",
    "model.compile(optimizer='adam', loss='binary_crossentropy', metrics=['accuracy'])\n",
    "history = model.fit(inp_train,otp_train,validation_data=(inp_test,otp_test),epochs=3)\n",
    "\n",
    "plt.figure()\n",
    "plt.plot(history.history['loss'])\n",
    "plt.plot(history.history['val_loss'])\n",
    "plt.legend(['train','test'])\n",
    "plt.title('Loss')\n",
    "\n",
    "plt.figure()\n",
    "plt.plot(history.history['acc'])\n",
    "plt.plot(history.history['val_acc'])\n",
    "plt.legend(['train','test'])\n",
    "plt.title('Accuracy')"
   ]
  },
  {
   "cell_type": "code",
   "execution_count": 14,
   "metadata": {},
   "outputs": [
    {
     "name": "stdout",
     "output_type": "stream",
     "text": [
      "\n",
      "Confusion Matrix : \n",
      " [[1143   59]\n",
      " [  53  545]]\n",
      "              precision    recall  f1-score   support\n",
      "\n",
      "           0       0.96      0.95      0.95      1202\n",
      "           1       0.90      0.91      0.91       598\n",
      "\n",
      "   micro avg       0.94      0.94      0.94      1800\n",
      "   macro avg       0.93      0.93      0.93      1800\n",
      "weighted avg       0.94      0.94      0.94      1800\n",
      "\n"
     ]
    }
   ],
   "source": [
    "pred = model.predict(inp_test)\n",
    "pred = (pred>0.5)*1\n",
    "print(\"\\nConfusion Matrix : \\n\",confusion_matrix(otp_test,pred))\n",
    "print(classification_report(otp_test,pred))"
   ]
  },
  {
   "cell_type": "markdown",
   "metadata": {},
   "source": [
    "### Support Vector Machine"
   ]
  },
  {
   "cell_type": "code",
   "execution_count": 15,
   "metadata": {
    "scrolled": true
   },
   "outputs": [
    {
     "name": "stdout",
     "output_type": "stream",
     "text": [
      "Test accuracy :  0.9294444444444444\n",
      "\n",
      "Confusion Matrix : \n",
      " [[1126   76]\n",
      " [  51  547]]\n",
      "              precision    recall  f1-score   support\n",
      "\n",
      "           0       0.96      0.94      0.95      1202\n",
      "           1       0.88      0.91      0.90       598\n",
      "\n",
      "   micro avg       0.93      0.93      0.93      1800\n",
      "   macro avg       0.92      0.93      0.92      1800\n",
      "weighted avg       0.93      0.93      0.93      1800\n",
      "\n"
     ]
    }
   ],
   "source": [
    "from sklearn.svm import SVC\n",
    "\n",
    "svm_clf = SVC(gamma='auto',kernel='rbf')\n",
    "svm_clf.fit(inp_train,otp_train)\n",
    "\n",
    "svm_pred = svm_clf.predict(inp_test)\n",
    "\n",
    "print(\"Test accuracy : \",sum([int(y==t) for y,t in zip(svm_pred,otp_test)])/len(otp_test))\n",
    "print(\"\\nConfusion Matrix : \\n\",confusion_matrix(otp_test,svm_pred))\n",
    "print(classification_report(otp_test,svm_pred))"
   ]
  },
  {
   "cell_type": "markdown",
   "metadata": {},
   "source": [
    "### Random Forest"
   ]
  },
  {
   "cell_type": "code",
   "execution_count": 16,
   "metadata": {},
   "outputs": [
    {
     "name": "stdout",
     "output_type": "stream",
     "text": [
      "Test accuracy :  0.9994444444444445\n",
      "\n",
      "Confusion Matrix : \n",
      " [[1201    1]\n",
      " [   0  598]]\n",
      "              precision    recall  f1-score   support\n",
      "\n",
      "           0       1.00      1.00      1.00      1202\n",
      "           1       1.00      1.00      1.00       598\n",
      "\n",
      "   micro avg       1.00      1.00      1.00      1800\n",
      "   macro avg       1.00      1.00      1.00      1800\n",
      "weighted avg       1.00      1.00      1.00      1800\n",
      "\n"
     ]
    }
   ],
   "source": [
    "from sklearn.ensemble import RandomForestClassifier\n",
    "\n",
    "rfc_clf = RandomForestClassifier(n_estimators=50, max_depth=10, random_state=42)\n",
    "rfc_clf.fit(inp_train,otp_train)\n",
    "\n",
    "rfc_pred = rfc_clf.predict(inp_test)\n",
    "\n",
    "print(\"Test accuracy : \",sum([int(y==t) for y,t in zip(rfc_pred,otp_test)])/len(otp_test))\n",
    "print(\"\\nConfusion Matrix : \\n\",confusion_matrix(otp_test,rfc_pred))\n",
    "print(classification_report(otp_test,rfc_pred))"
   ]
  },
  {
   "cell_type": "code",
   "execution_count": null,
   "metadata": {
    "collapsed": true
   },
   "outputs": [],
   "source": []
  },
  {
   "cell_type": "code",
   "execution_count": null,
   "metadata": {
    "collapsed": true
   },
   "outputs": [],
   "source": []
  },
  {
   "cell_type": "code",
   "execution_count": null,
   "metadata": {
    "collapsed": true
   },
   "outputs": [],
   "source": []
  }
 ],
 "metadata": {
  "kernelspec": {
   "display_name": "Python 3",
   "language": "python",
   "name": "python3"
  },
  "language_info": {
   "codemirror_mode": {
    "name": "ipython",
    "version": 3
   },
   "file_extension": ".py",
   "mimetype": "text/x-python",
   "name": "python",
   "nbconvert_exporter": "python",
   "pygments_lexer": "ipython3",
   "version": "3.7.1"
  }
 },
 "nbformat": 4,
 "nbformat_minor": 2
}
